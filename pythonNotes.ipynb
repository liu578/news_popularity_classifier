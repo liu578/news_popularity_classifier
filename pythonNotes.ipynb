{
 "cells": [
  {
   "cell_type": "markdown",
   "metadata": {},
   "source": [
    "map, filter, reduce\n",
    "https://www.youtube.com/watch?v=04CZ54ztjw0&t=5s"
   ]
  },
  {
   "cell_type": "code",
   "execution_count": 12,
   "metadata": {},
   "outputs": [
    {
     "name": "stdout",
     "output_type": "stream",
     "text": [
      "[2, 4, 6, 8, 10]\n",
      "[3, 6, 9]\n",
      "[3, 6, 9]\n"
     ]
    }
   ],
   "source": [
    "def x2(n):\n",
    "    return n * 2\n",
    "def x3(n):\n",
    "    return n * 3\n",
    "nums = [1,2,3,4,5]\n",
    "print(map(x2,nums))\n",
    "print(map(x3,nums[:3]))\n",
    "print(map(lambda x: x * 3,nums[:3]))\n"
   ]
  },
  {
   "cell_type": "code",
   "execution_count": 13,
   "metadata": {},
   "outputs": [
    {
     "name": "stdout",
     "output_type": "stream",
     "text": [
      "[1, 3, 5, 7, 9]\n",
      "[1, 3, 5, 7, 9]\n"
     ]
    }
   ],
   "source": [
    "def funcOdd(n):\n",
    "    return n%2 == 1 #return boolean\n",
    "print(filter(funcOdd,range(10)))\n",
    "print(filter(lambda x: x%2 == 1,range(10)))\n"
   ]
  },
  {
   "cell_type": "code",
   "execution_count": 143,
   "metadata": {},
   "outputs": [
    {
     "name": "stdout",
     "output_type": "stream",
     "text": [
      "[2, 4]\n"
     ]
    }
   ],
   "source": [
    "a = [True,False,True]\n",
    "def fil(n):\n",
    "    if n % 2 == 0:\n",
    "        return True\n",
    "    else:\n",
    "        return False\n",
    "b = [1,2,3,4]\n",
    "print(filter(fil,b))\n"
   ]
  },
  {
   "cell_type": "code",
   "execution_count": 14,
   "metadata": {},
   "outputs": [
    {
     "name": "stdout",
     "output_type": "stream",
     "text": [
      "45\n",
      "45\n"
     ]
    }
   ],
   "source": [
    "def funcSum(x,y):\n",
    "    return x + y\n",
    "print(reduce(funcSum,range(10)))\n",
    "print(reduce(lambda x, y: x+y,range(10)))\n"
   ]
  },
  {
   "cell_type": "markdown",
   "metadata": {},
   "source": [
    "lambda 表达式： lambda parameter: function body\n",
    "一个lambda 表达式就是一个函数\n",
    "可以作为以上map, filter, reduce的第一个参数，代替原来的函数"
   ]
  },
  {
   "cell_type": "markdown",
   "metadata": {},
   "source": [
    "Python Single Line For Loops\n",
    "[body for loop]\n",
    "http://blog.teamtreehouse.com/python-single-line-loops"
   ]
  },
  {
   "cell_type": "code",
   "execution_count": 15,
   "metadata": {},
   "outputs": [
    {
     "name": "stdout",
     "output_type": "stream",
     "text": [
      "[0, 2, 4, 6, 8, 10, 12, 14, 16, 18]\n"
     ]
    }
   ],
   "source": [
    "list2x = [i * 2 for i in range(10)]\n",
    "print(list2x)"
   ]
  },
  {
   "cell_type": "code",
   "execution_count": 2,
   "metadata": {},
   "outputs": [
    {
     "name": "stdout",
     "output_type": "stream",
     "text": [
      "(2, 1)\n"
     ]
    }
   ],
   "source": [
    "a,b = 1,2\n",
    "a,b = b,a\n",
    "print(a,b)"
   ]
  },
  {
   "cell_type": "code",
   "execution_count": 4,
   "metadata": {},
   "outputs": [
    {
     "name": "stdout",
     "output_type": "stream",
     "text": [
      "2147483647\n"
     ]
    }
   ],
   "source": [
    "import sys\n",
    "print(sys.maxsize)"
   ]
  },
  {
   "cell_type": "code",
   "execution_count": 52,
   "metadata": {
    "scrolled": false
   },
   "outputs": [
    {
     "name": "stdout",
     "output_type": "stream",
     "text": [
      "4\n",
      "2\n",
      "10\n",
      "[0, 1, 2, 3, 4, 5, 6, 7, 8, 9, 11, 12, 13, 14, 15, 16, 17, 18, 19, 20, 21, 22, 23, 24, 25, 26, 27, 28, 29, 30, 31, 32, 33, 34, 35, 36, 37, 38, 39, 40, 41, 42, 43, 44, 45, 46, 47, 48, 49, 50, 51, 52, 53, 54, 55, 56, 57, 58, 59, 60, 61, 62, 63, 64, 65, 66, 67, 68, 69, 70, 71, 72, 73, 74, 75, 76, 77, 78, 79, 80, 81, 82, 83, 84, 85, 86, 87, 88, 89, 90, 91, 92, 93, 94, 95, 96, 97, 98, 99]\n"
     ]
    }
   ],
   "source": [
    "x = \"hello\"\n",
    "print x.find('o')\n",
    "print x.count('l')\n",
    "a = range(100)\n",
    "print(a.pop(10))\n",
    "print a\n",
    "    "
   ]
  },
  {
   "cell_type": "code",
   "execution_count": 64,
   "metadata": {},
   "outputs": [
    {
     "name": "stdout",
     "output_type": "stream",
     "text": [
      "1 2 <type 'int'>\n",
      "[1, 2] [1, 2] <type 'list'>\n"
     ]
    }
   ],
   "source": [
    "b = a = 1\n",
    "b += 1\n",
    "print a,b, type(b)\n",
    "\n",
    "b = a = [1]\n",
    "b += [2]\n",
    "print a, b, type(b)"
   ]
  },
  {
   "cell_type": "code",
   "execution_count": 247,
   "metadata": {},
   "outputs": [
    {
     "name": "stdout",
     "output_type": "stream",
     "text": [
      "14751960 14751948 1 2\n",
      "1894815248 1894815248 2 2\n",
      "[0, 2, 4, 6, 8, 10, 12, 14, 16, 18, 20, 22, 24, 26, 28, 30, 32, 34, 36, 38, 40, 42, 44, 46, 48, 50, 52, 54, 56, 58, 60, 62, 64, 66, 68, 70, 72, 74, 76, 78, 80, 82, 84, 86, 88, 90, 92, 94, 96, 98, 100, 102, 104, 106, 108, 110, 112, 114, 116, 118, 120, 122, 124, 126, 128, 130, 132, 134, 136, 138, 140, 142, 144, 146, 148, 150, 152, 154, 156, 158, 160, 162, 164, 166, 168, 170, 172, 174, 176, 178, 180, 182, 184, 186, 188, 190, 192, 194, 196, 198] [0, 2, 4, 6, 8, 10, 12, 14, 16, 18, 20, 22, 24, 26, 28, 30, 32, 34, 36, 38, 40, 42, 44, 46, 48, 50, 52, 54, 56, 58, 60, 62, 64, 66, 68, 70, 72, 74, 76, 78, 80, 82, 84, 86, 88, 90, 92, 94, 96, 98, 100, 102, 104, 106, 108, 110, 112, 114, 116, 118, 120, 122, 124, 126, 128, 130, 132, 134, 136, 138, 140, 142, 144, 146, 148, 150, 152, 154, 156, 158, 160, 162, 164, 166, 168, 170, 172, 174, 176, 178, 180, 182, 184, 186, 188, 190, 192, 194, 196, 198] 1895222688 1895222688\n"
     ]
    }
   ],
   "source": [
    "a = 1\n",
    "b = a\n",
    "b+= 1\n",
    "print id(a),id(b),a,b # id() 函数用于获取对象的内存地址。\n",
    "class Class(object):\n",
    "    def __init__(self,value):\n",
    "        self.value = value\n",
    "# 对于变量a和b来说， a = b 是 assign b的值给a， a和b 指向不同的内存空间        \n",
    "c = Class(1)\n",
    "d = c\n",
    "d.value +=1\n",
    "print id(c),id(d),c.value,d.value\n",
    "# 对于对象c和d来说， c = d 是 c和d指向相同的内存空间 \n",
    "\n",
    "e = f = range(100)\n",
    "for index in range(100):\n",
    "    e[index] *= 2\n",
    "print e,f,id(e), id(f)\n",
    "\n",
    "a = ['a']\n",
    "b = a\n",
    "b+= 'b'\n",
    "print id(a),id(b),a,b \n",
    "#对于list e和f 来说，名字e和f也只是指针\n",
    "\n",
    "# 对变量来说 =号默认是赋值操作 变量名是对具体内存空间别称\n",
    "# 对对象来说 =号默认是指针操作 对象名都是指针\n",
    "# 对象A = 对象B 不是赋值操作，而是让指针A指向指针B所指的那个对象"
   ]
  },
  {
   "cell_type": "code",
   "execution_count": 182,
   "metadata": {},
   "outputs": [
    {
     "name": "stdout",
     "output_type": "stream",
     "text": [
      "I\n",
      "Love\n",
      "U\n"
     ]
    }
   ],
   "source": [
    "#Linked list 实现\n",
    "#对象名都是指针 \n",
    "class Element(object):\n",
    "    def __init__(self,value):\n",
    "        self.value = value\n",
    "        self.next = None\n",
    "        \n",
    "class Linkedlist(object):\n",
    "    def __init__(self,head = None):\n",
    "        self.head = head #self.head 指向传入的对象head\n",
    "    def append1(self,newElement):\n",
    "        if self.head == None:#若 self.head 所指为空对象\n",
    "            self.head = newElement\n",
    "            #self.head 指向传入的对象newElement\n",
    "#         print id(newElement), id(self.head)\n",
    "\n",
    "        else:\n",
    "            currentPointer = self.head\n",
    "            #对于对象来说，不能对整个对象进行赋值，只能进行指针操作\n",
    "            while currentPointer.next != None:\n",
    "                currentPointer = currentPointer.next #改变指针\n",
    "            currentPointer.next = newElement\n",
    "            \n",
    "    def travel(self):\n",
    "        item = self.head\n",
    "        while item != None:\n",
    "            print item.value\n",
    "            item = item.next\n",
    "x = Element('I')\n",
    "y = Element('Love')\n",
    "z = Element('U')\n",
    "a = Linkedlist()\n",
    "a.append1(x)\n",
    "a.append1(y)\n",
    "a.append1(z)\n",
    "a.travel()\n",
    "\n",
    "\n"
   ]
  },
  {
   "cell_type": "code",
   "execution_count": 186,
   "metadata": {},
   "outputs": [
    {
     "name": "stdout",
     "output_type": "stream",
     "text": [
      "3\n",
      "3\n",
      "4\n",
      "2\n",
      "4\n",
      "3\n"
     ]
    }
   ],
   "source": [
    "\"\"\"The LinkedList code from before is provided below.\n",
    "Add three functions to the LinkedList.\n",
    "\"get_position\" returns the element at a certain position.\n",
    "The \"insert\" function will add an element to a particular\n",
    "spot in the list.\n",
    "\"delete\" will delete the first element with that\n",
    "particular value.\n",
    "Then, use \"Test Run\" and \"Submit\" to run the test cases\n",
    "at the bottom.\"\"\"\n",
    "\n",
    "class Element(object):\n",
    "    def __init__(self, value):\n",
    "        self.value = value\n",
    "        self.next = None\n",
    "        \n",
    "class LinkedList(object):\n",
    "    def __init__(self, head=None):\n",
    "        self.head = head\n",
    "        \n",
    "    def append(self, new_element):\n",
    "        current = self.head\n",
    "        if self.head:\n",
    "            while current.next:\n",
    "                current = current.next\n",
    "            current.next = new_element\n",
    "        else:\n",
    "            self.head = new_element\n",
    "            \n",
    "    def get_position(self, position):\n",
    "        \"\"\"Get an element from a particular position.\n",
    "        Assume the first position is \"1\".\n",
    "        Return \"None\" if position is not in the list.\"\"\"\n",
    "        currentPointer = self.head\n",
    "        if position == 1:\n",
    "            return currentPointer\n",
    "        else:\n",
    "            for i in range(position - 1):\n",
    "                if not currentPointer.next:\n",
    "                    return None\n",
    "                currentPointer = currentPointer.next\n",
    "        return currentPointer    \n",
    "            \n",
    "    \n",
    "    def insert(self, new_element, position):\n",
    "        \"\"\"Insert a new node at the given position.\n",
    "        Assume the first position is \"1\".\n",
    "        Inserting at position 3 means between\n",
    "        the 2nd and 3rd elements.\"\"\"\n",
    "        tempPointer = self.head\n",
    "        if position == 1:\n",
    "            self.head = new_element\n",
    "            self.head.next = tempPointer\n",
    "        else:\n",
    "            tempPointer = self.get_position(position-1)\n",
    "            tempPointer2 = self.get_position(position)\n",
    "            tempPointer.next = new_element\n",
    "            tempPointer.next.next = tempPointer2\n",
    "    \n",
    "    \n",
    "    def delete(self, value):\n",
    "        \"\"\"Delete the first node with a given value.\"\"\"\n",
    "        currentPointer =self.head\n",
    "        if self.head.value == value:\n",
    "            self.head = self.head.next\n",
    "            return\n",
    "        while currentPointer.next != None:\n",
    "            if currentPointer.next.value == value:\n",
    "                currentPointer.next =  currentPointer.next.next\n",
    "                return\n",
    "            currentPointer = currentPointer.next\n",
    "            \n",
    "       \n",
    "\n",
    "# Test cases\n",
    "# Set up some Elements\n",
    "e1 = Element(1)\n",
    "e2 = Element(2)\n",
    "e3 = Element(3)\n",
    "e4 = Element(4)\n",
    "\n",
    "# Start setting up a LinkedList\n",
    "ll = LinkedList(e1)\n",
    "ll.append(e2)\n",
    "ll.append(e3)\n",
    "\n",
    "# Test get_position\n",
    "# Should print 3\n",
    "print ll.head.next.next.value\n",
    "# Should also print 3\n",
    "print ll.get_position(3).value\n",
    "\n",
    "# Test insert\n",
    "ll.insert(e4,3)\n",
    "# Should print 4 now\n",
    "print ll.get_position(3).value\n",
    "\n",
    "# Test delete\n",
    "ll.delete(1)\n",
    "# Should print 2 now\n",
    "print ll.get_position(1).value\n",
    "# Should print 4 now\n",
    "print ll.get_position(2).value\n",
    "# Should print 3 now\n",
    "print ll.get_position(3).value"
   ]
  },
  {
   "cell_type": "code",
   "execution_count": 203,
   "metadata": {},
   "outputs": [
    {
     "name": "stdout",
     "output_type": "stream",
     "text": [
      "1\n",
      "1\n",
      "2\n",
      "3\n",
      "4\n",
      "5\n"
     ]
    }
   ],
   "source": [
    "\"\"\"Make a Queue class using a list!\n",
    "Hint: You can use any Python list method\n",
    "you'd like! Try to write each one in as \n",
    "few lines as possible.\n",
    "Make sure you pass the test cases too!\"\"\"\n",
    "\n",
    "class Queue:\n",
    "    def __init__(self, head=None):\n",
    "        self.storage = [head]\n",
    "\n",
    "    def enqueue(self, new_element):\n",
    "        self.storage.append(new_element)\n",
    "\n",
    "    def peek(self):\n",
    "        return self.storage[0] \n",
    "\n",
    "    def dequeue(self):\n",
    "        return self.storage.pop(0)\n",
    "    \n",
    "# Setup\n",
    "q = Queue(1)\n",
    "q.enqueue(2)\n",
    "q.enqueue(3)\n",
    "\n",
    "# Test peek\n",
    "# Should be 1\n",
    "print q.peek()\n",
    "\n",
    "# Test dequeue\n",
    "# Should be 1\n",
    "print q.dequeue()\n",
    "\n",
    "# Test enqueue\n",
    "q.enqueue(4)\n",
    "# Should be 2\n",
    "print q.dequeue()\n",
    "# Should be 3\n",
    "print q.dequeue()\n",
    "# Should be 4\n",
    "print q.dequeue()\n",
    "q.enqueue(5)\n",
    "# Should be 5\n",
    "print q.peek()"
   ]
  },
  {
   "cell_type": "code",
   "execution_count": 213,
   "metadata": {
    "scrolled": true
   },
   "outputs": [
    {
     "name": "stdout",
     "output_type": "stream",
     "text": [
      "1\n",
      "1\n",
      "1\n",
      "2\n",
      "2\n",
      "2\n",
      "2\n",
      "5\n",
      "5\n"
     ]
    }
   ],
   "source": [
    "class Solution(object):\n",
    "    def longestConsecutive(self, nums):\n",
    "        \"\"\"\n",
    "        :type nums: List[int]\n",
    "        :rtype: int\n",
    "        \"\"\"\n",
    "        maxLength = 0\n",
    "        for index,item in enumerate(nums):\n",
    "            left = right = item\n",
    "            while right+1 in nums[:index+1:]:\n",
    "                right += 1\n",
    "            while left-1 in nums[:index+1:]:\n",
    "                left -= 1\n",
    "            maxLength = max(maxLength,right - left + 1) \n",
    "            print maxLength\n",
    "        return maxLength\n",
    "        \n",
    "a = Solution()\n",
    "print a.longestConsecutive([60,100,5, 4, 200, 1, 2, 3])"
   ]
  },
  {
   "cell_type": "code",
   "execution_count": 220,
   "metadata": {},
   "outputs": [
    {
     "data": {
      "text/plain": [
       "7"
      ]
     },
     "execution_count": 220,
     "metadata": {},
     "output_type": "execute_result"
    }
   ],
   "source": [
    "class Solution(object):\n",
    "    def longestConsecutive(self, nums):\n",
    "        \"\"\"\n",
    "        :type nums: List[int]\n",
    "        :rtype: int\n",
    "        \"\"\"\n",
    "        nums.sort()\n",
    "        maxLen = length = 1\n",
    "        for index in range(1,len(nums)):\n",
    "            if nums[index] - nums[index-1] == 1:\n",
    "                length += 1\n",
    "            else:\n",
    "                maxLen = max(maxLen,length)\n",
    "                length = 1\n",
    "        return maxLen\n",
    "                \n",
    "a = Solution()\n",
    "a.longestConsecutive([60,100,5, 4, 200, 1, 2, 3,0,6])"
   ]
  },
  {
   "cell_type": "code",
   "execution_count": 261,
   "metadata": {},
   "outputs": [
    {
     "name": "stdout",
     "output_type": "stream",
     "text": [
      "0 8\n",
      "1 8\n",
      "1 7\n",
      "1 6\n",
      "1 5\n",
      "1 4\n",
      "1 3\n",
      "1 2\n",
      "49\n"
     ]
    }
   ],
   "source": [
    "        height = [1,8,6,2,5,4,8,3,7]      \n",
    "        left = 0\n",
    "        right = len(height) - 1\n",
    "        area = 0\n",
    "        \n",
    "        while not left == right:\n",
    "            print left, right\n",
    "            if height[left] < height[right]:\n",
    "                area = max(area, height[left] * (right - left))\n",
    "                left += 1\n",
    "            else:\n",
    "                area = max(area, height[right] * (right - left))\n",
    "                right -= 1\n",
    "        print area"
   ]
  },
  {
   "cell_type": "code",
   "execution_count": 288,
   "metadata": {},
   "outputs": [
    {
     "name": "stdout",
     "output_type": "stream",
     "text": [
      " 0 and None are all if no\n"
     ]
    }
   ],
   "source": [
    "a = 0\n",
    "b = None\n",
    "if not a and not b:\n",
    "    print ' 0 and None are all if no'"
   ]
  },
  {
   "cell_type": "code",
   "execution_count": 268,
   "metadata": {
    "scrolled": true
   },
   "outputs": [
    {
     "name": "stdout",
     "output_type": "stream",
     "text": [
      "{1: 'a', 2: 'b'}\n",
      "a\n",
      "{2: 'b'}\n"
     ]
    }
   ],
   "source": [
    "dict = {1:'a', 2:'b'}\n",
    "print dic\n",
    "print dic.pop(1)\n",
    "print dic"
   ]
  },
  {
   "cell_type": "code",
   "execution_count": 4,
   "metadata": {},
   "outputs": [
    {
     "name": "stdout",
     "output_type": "stream",
     "text": [
      "30\n",
      "85\n",
      "75\n",
      "170\n",
      "150\n",
      "320\n",
      "300\n",
      "700\n",
      "350\n",
      "200\n",
      "4\n"
     ]
    }
   ],
   "source": [
    "#binary search tree\n",
    "class Node(object):\n",
    "    def __init__(self,data):\n",
    "        self.data = data\n",
    "        self.leftChild = None\n",
    "        self.rightChild = None\n",
    "        \n",
    "        \n",
    "    def insert(self,newData):\n",
    "        if newData == self.data:\n",
    "            return False\n",
    "        elif newData < self.data:\n",
    "            if not self.leftChild:\n",
    "                self.leftChild = Node(newData)\n",
    "            else:# leftChild already exists\n",
    "                self.leftChild.insert(newData) #recursively insert\n",
    "        else:\n",
    "            if not self.rightChild:\n",
    "                self.rightChild = Node(newData)\n",
    "            else:\n",
    "                self.rightChild.insert(newData)\n",
    "    \n",
    "    def findValue(self,value):\n",
    "        if value == self.data:\n",
    "            return True\n",
    "        elif value < self.data:\n",
    "            if not self.leftChild:\n",
    "                return False\n",
    "            else:\n",
    "                return self.leftChild.findValue(value)\n",
    "        else:\n",
    "            if not self.rightChild:\n",
    "                return False\n",
    "            else:\n",
    "                return self.rightChild.findValue(value)\n",
    "    def preOrder(self):\n",
    "        print self.data\n",
    "        if self.leftChild:\n",
    "            self.leftChild.preOrder()\n",
    "        if self.rightChild:\n",
    "            self.rightChild.preOrder()\n",
    "    \n",
    "    def inOrder(self):\n",
    "        if self.leftChild:\n",
    "            self.leftChild.inOrder()\n",
    "        print self.data\n",
    "        if self.rightChild:\n",
    "            self.rightChild.inOrder()\n",
    "            \n",
    "    def postOrder(self):\n",
    "        if self.leftChild:\n",
    "            self.leftChild.postOrder()\n",
    "        if self.rightChild:\n",
    "            self.rightChild.postOrder()\n",
    "        print self.data           \n",
    "    def deepth(self,node):\n",
    "        if not node:\n",
    "            return 0\n",
    "        return max(self.deepth(node.leftChild),self.deepth(node.rightChild)) + 1\n",
    "    \n",
    "# if __name__ == '__main__'的意思是：\n",
    "# 当.py文件被直接运行时，if __name__ == '__main__'之下的代码块将被运行；\n",
    "# 当.py文件以模块形式被导入时，if __name__ == '__main__'之下的代码块不被运行。\n",
    "if __name__ == '__main__':\n",
    "    a = Node(200)\n",
    "    #二叉搜索树的插入顺序很重要，相同的值通过不同的顺序插入会得到完全不同的二叉搜索树\n",
    "    a.insert(150)\n",
    "    a.insert(350)\n",
    "    a.insert(75)\n",
    "    a.insert(170)\n",
    "    a.insert(300)\n",
    "    a.insert(700)\n",
    "    a.insert(30)\n",
    "    a.insert(85)\n",
    "    a.insert(320)\n",
    "\n",
    "#     a.preOrder()\n",
    "#     a.inOrder()  \n",
    "    a.postOrder()\n",
    "    print a.deepth(a)"
   ]
  },
  {
   "cell_type": "code",
   "execution_count": 340,
   "metadata": {},
   "outputs": [
    {
     "name": "stdout",
     "output_type": "stream",
     "text": [
      "21\n",
      "21\n"
     ]
    }
   ],
   "source": [
    "#recursion递归 vs iteration迭代\n",
    "#斐波那契数列 (0),1,1,2,3,5,8,13,21...\n",
    "#           fib[1] [3]        [8]\n",
    "def recursion(n):    # recursion is calling itself\n",
    "    if n <= 0:\n",
    "        return \n",
    "    elif n == 1:\n",
    "        return 1\n",
    "    elif n == 2:\n",
    "        return 1\n",
    "    else:# n>2\n",
    "        return recursion(n-1) + recursion(n-2)\n",
    "print recursion(8)\n",
    "\n",
    "# iteration is \n",
    "# for iteration in range(n):\n",
    "#   state = f(state)\n",
    "def iteration(n): \n",
    "    if n <= 0:\n",
    "        return \n",
    "    elif n == 1:\n",
    "        return 1\n",
    "    elif n == 2:\n",
    "        return 1\n",
    "    num1 = 0\n",
    "    num2 = 1\n",
    "    summ = 1\n",
    "    for i in range(3, n+1):\n",
    "        num1 = num2\n",
    "        num2 = summ\n",
    "        summ = num1 + num2\n",
    "        #iteration use this loop's output 'summ' as next loop's input\n",
    "    return summ\n",
    "print iteration(8)\n"
   ]
  },
  {
   "cell_type": "markdown",
   "metadata": {
    "ExecuteTime": {
     "end_time": "2018-12-28T11:56:35.101598Z",
     "start_time": "2018-12-28T11:56:35.098007Z"
    }
   },
   "source": [
    "# 关于python 内存分配的困惑--待完成"
   ]
  },
  {
   "cell_type": "code",
   "execution_count": 49,
   "metadata": {
    "ExecuteTime": {
     "end_time": "2018-12-28T12:36:51.090582Z",
     "start_time": "2018-12-28T12:36:51.084220Z"
    }
   },
   "outputs": [
    {
     "name": "stdout",
     "output_type": "stream",
     "text": [
      "2 different ids of s, these two s are actually different in memory\n",
      "4475807680\n",
      "4475810816\n",
      "4704483656\n",
      "4704483656\n",
      "4475810816\n"
     ]
    }
   ],
   "source": [
    "s = 'string is print(id(s))'\n",
    "id1 = id(s)\n",
    "s += '!!!' # 1:temp = s + '!!!'  2: s = temp\n",
    "id2 = id(s)\n",
    "if id1 != id2:\n",
    "    print('2 different ids of s, these two s are actually different in memory')\n",
    "    \n",
    "a = 1\n",
    "print(id(a))\n",
    "a = 99\n",
    "print(id(a))\n",
    "\n",
    "res = [1,2,3]\n",
    "print(id(res))\n",
    "res.append(10)\n",
    "print(id(res))\n",
    "\n",
    "b = 99\n",
    "print(id(b))"
   ]
  },
  {
   "cell_type": "markdown",
   "metadata": {},
   "source": [
    "# global variable's scope in function \n",
    "* global variable is only readable in function\n",
    "* if try to change the global variable directly , new local variable with the same name created, the mechanism is shadowing\n",
    "## if you want to change global variable, 3 ways\n",
    "* wtire global x in function -- 针对string，int等使用\n",
    "* use container type to store x (list,dic,set...)，python won't shadow(屏蔽) container -- 建议对list,dict使用\n",
    "* call x.fuction or modify x.val to change x's inner components -- 针对object使用\n"
   ]
  },
  {
   "cell_type": "code",
   "execution_count": 53,
   "metadata": {
    "ExecuteTime": {
     "end_time": "2018-12-28T12:45:32.290096Z",
     "start_time": "2018-12-28T12:45:32.281684Z"
    }
   },
   "outputs": [
    {
     "name": "stdout",
     "output_type": "stream",
     "text": [
      "10 hello [1, 2, 3] [0, 1, 2, 3, 4, 5, 6, 7, 8, 9]\n",
      "0 hello world [-1000, 1, 2, 3] [0, 1, 2, 3, 4, 5, 6, 7, 8, 9, 0, 1, 2, 3, 4, 5, 6, 7, 8, 9]\n"
     ]
    }
   ],
   "source": [
    "class Test_Class():\n",
    "    def __init__(self, val):\n",
    "        self.val = [i for i in range(val)]\n",
    "\n",
    "    def double(self):\n",
    "        self.val *= 2\n",
    "\n",
    "def inner():\n",
    "    # print('can visit global variable in func|||',x,s,res)\n",
    "    \n",
    "    global x\n",
    "    global s\n",
    "    x = 0\n",
    "    s += ' world'\n",
    "    t.double()\n",
    "    res.append(-1000)\n",
    "    res.sort()\n",
    "\n",
    "t = Test_Class(10)\n",
    "x, s, res = 10, 'hello', [1, 2, 3]\n",
    "print(x, s, res, t.val)\n",
    "inner()\n",
    "print(x, s, res, t.val)"
   ]
  },
  {
   "cell_type": "markdown",
   "metadata": {},
   "source": [
    "# variable's scope in method of class for leetcode \n",
    "## similarly, if you want to modify variable defined in outter func from inner func, 4 ways\n",
    "\n",
    "* nonlocal x 告诉解释器 x是外部变量且可以修改，不要屏蔽(shadowing)， 类似于声明全局变量的global关键字 -- python3引入，针对string,int等使用\n",
    "\n",
    "*虽然string 也是 container类型, 但是string是immutable(类似tuple),一旦定义就无法改变，（that's why all string methods return a new string instead of modifying the string in place),方法 2，3 都无效，建议使用方法1 nonlocal*\n",
    "\n",
    "* use container type to store x (list,dic,set...)，python won't shadow(屏蔽) container -- leetcode最常用,建议对list,dict使用\n",
    "* call x.fuction or modify x.val to change x's inner components -- 针对object使用\n",
    "* define x as self.x in the same class, then self.x becomes global in that class's functions -- 不常用\n"
   ]
  },
  {
   "cell_type": "code",
   "execution_count": 60,
   "metadata": {
    "ExecuteTime": {
     "end_time": "2018-12-28T12:48:28.087574Z",
     "start_time": "2018-12-28T12:48:28.076135Z"
    }
   },
   "outputs": [
    {
     "name": "stdout",
     "output_type": "stream",
     "text": [
      "outter function's local variable is nonlocal variable to inner functioin,\n",
      " just like global variables outside of functions\n",
      "10 [0, 1] hello [1, 2, 3, 4] {'1': 'A', '2': 'B', '3': 'C'} {'c', 'b', 'a'}\n",
      "999 [0, 1, 0, -1, -2] python [111, 2, 3, 4] {'1': 'AA', '2': 'B', '3': 'C'} {'c', 'b', 'a', 'ddd'}\n",
      "999 [0, 1, 0, -1, -2] python [111, 2, 3, 4] {'1': 'AA', '2': 'B', '3': 'C'} {'c', 'b', 'a', 'ddd'}\n"
     ]
    }
   ],
   "source": [
    "class Solution:\n",
    "    def outter(self):\n",
    "        class Test_Class():\n",
    "            def __init__(self,val):\n",
    "                self.val = [i for i in range(val)]\n",
    "            def double(self):\n",
    "                self.val *= 2\n",
    "\n",
    "        def inner():\n",
    "            # print('can visit global variable in func|||',x,s,res)\n",
    "\n",
    "            self.x = 999\n",
    "            t.val += [0,-1,-2]\n",
    "            nonlocal s\n",
    "            s = 'python'\n",
    "            # container types: list, dict, set\n",
    "            listt[0] = 111\n",
    "            dicc['1'] = 'AA'\n",
    "            sett.add('ddd')\n",
    "            print(self.x,t.val,s,listt,dicc,sett)\n",
    "            \n",
    "        print(\"outter function's local variable is nonlocal variable to inner functioin,\\n just like global variables outside of functions\")    \n",
    "        t = Test_Class(2)\n",
    "        self.x, s = 10,'hello'\n",
    "        listt, dicc, tuplee, sett = [1,2,3,4],{'1':'A','2':'B','3':'C'}, (1,2,3,4,5),{'a','b','c'}\n",
    "        print(self.x,t.val,s,listt,dicc,sett)\n",
    "        inner()\n",
    "        print(self.x,t.val,s,listt,dicc,sett)\n",
    "\n",
    "if __name__ == \"__main__\":\n",
    "    Solution().outter()"
   ]
  },
  {
   "cell_type": "code",
   "execution_count": 23,
   "metadata": {
    "ExecuteTime": {
     "end_time": "2018-12-28T10:04:15.275794Z",
     "start_time": "2018-12-28T10:04:15.268627Z"
    }
   },
   "outputs": [
    {
     "ename": "SyntaxError",
     "evalue": "Missing parentheses in call to 'print'. Did you mean print(inst.d)? (<ipython-input-23-ade7f2db3cfa>, line 44)",
     "output_type": "error",
     "traceback": [
      "\u001b[0;36m  File \u001b[0;32m\"<ipython-input-23-ade7f2db3cfa>\"\u001b[0;36m, line \u001b[0;32m44\u001b[0m\n\u001b[0;31m    print inst.d\u001b[0m\n\u001b[0m             ^\u001b[0m\n\u001b[0;31mSyntaxError\u001b[0m\u001b[0;31m:\u001b[0m Missing parentheses in call to 'print'. Did you mean print(inst.d)?\n"
     ]
    }
   ],
   "source": [
    "# if a function f and a variable v are parallely in a function p, then v is a read only global variable in f\n",
    "# but if we use prefix self.v, variable self.v becomes both readable and changable in f\n",
    "# v is read only in f\n",
    "class Test():\n",
    "    # self.a = 1 #NameError: name 'self' is not defined, self. must be incide a function(__init__ or f1) of a class\n",
    "    a = 1000 # equal to put self.a = 100 in __init__\n",
    "    def __init__(self,b): # b=1\n",
    "        self.b = b + self.a\n",
    "        # class's arrtibures must be in __init__, b is the only attribute of a,b,c,d\n",
    "    def p(self):\n",
    "        c = 10\n",
    "        self.d = 100 # self can also be used in functions other than __init__, but it's not attribute any more, 错了！是attribute\n",
    "        # c and self.d is similar in p but diff in f\n",
    "        \n",
    "        # in p but not in f2, c and d are both readable and changable\n",
    "        # c -= 1\n",
    "        # self.d -= 1\n",
    "        def f():\n",
    "            \n",
    "            # c -= 1 #error\n",
    "            # in f, c is readable but not changable, d is both readable and changable\n",
    "            self.d -= c\n",
    "            \n",
    "            return c, self.d\n",
    "        \n",
    "        f()\n",
    "        return c,self.d\n",
    "'''     self.d is the most useful form of variable in leetcode, very important\n",
    "a vs b: prefix self.variable can only be in cide a function of a class, but without prefix self., can put it in class directly\n",
    "b vs d: attributes must be in __init__\n",
    "c vs d: changable global variable in child func must be with prefix self.\n",
    "'''    \n",
    "\n",
    "    \n",
    "    \n",
    "# if __name__ == '__main__'的意思是：\n",
    "# 当.py文件被直接运行时，if __name__ == '__main__'之下的代码块将被运行；\n",
    "# 当.py文件以模块形式被导入时，if __name__ == '__main__'之下的代码块不被运行。\n",
    "if __name__ == '__main__':\n",
    "\n",
    "    inst = Test(1)\n",
    "    print(inst.a,inst.b)# a and b are the only attribute within a,b,c,d\n",
    "    print(inst.p())\n",
    "    print inst.d\n",
    "    # 为了简化，可以把不需要赋传入值的 attributes不加self. 直接放在类里面\n",
    "   \n",
    "    "
   ]
  },
  {
   "cell_type": "code",
   "execution_count": 271,
   "metadata": {},
   "outputs": [
    {
     "name": "stdout",
     "output_type": "stream",
     "text": [
      "100\n",
      "200\n",
      "400\n",
      "400\n"
     ]
    }
   ],
   "source": [
    "class Test():\n",
    "    def f1(self):\n",
    "        self.a1 = 100\n",
    "        print self.a1\n",
    "    def f2(self):\n",
    "        self.a1 *= 2\n",
    "        print self.a1\n",
    "a = Test()\n",
    "a.f1()\n",
    "a.f2()\n",
    "a.f2()\n",
    "print a.a1"
   ]
  },
  {
   "cell_type": "code",
   "execution_count": 269,
   "metadata": {},
   "outputs": [
    {
     "name": "stdout",
     "output_type": "stream",
     "text": [
      "['helper1']\n",
      "['helper2']\n",
      "['helper3']\n",
      "['helper4']\n",
      "['helper5']\n",
      "['helper6']\n",
      "0\n",
      "0\n",
      "0\n",
      "helper14\n",
      "0\n",
      "0\n"
     ]
    }
   ],
   "source": [
    "class SS():\n",
    "    def f(self):\n",
    "        h1 = []\n",
    "        h2 = []\n",
    "        h3 = []\n",
    "        self.h4 = []\n",
    "        self.h5 = []\n",
    "        self.h6 = []\n",
    "        h11 = 0\n",
    "        h12 = 0\n",
    "        h13 = 0\n",
    "        self.h14 = 0\n",
    "        self.h15 = 0\n",
    "        self.h16 = 0\n",
    "\n",
    "        def helper1():\n",
    "            h1.append('helper1')\n",
    "            return 1\n",
    "        def helper2(h2):\n",
    "            h2.append('helper2')\n",
    "            return 2\n",
    "        def helper3(x):\n",
    "            x.append('helper3')\n",
    "            return 3\n",
    "        def helper4():\n",
    "            self.h4.append('helper4')\n",
    "            return 4\n",
    "        def helper5(h5): #(self.h5) invalid syntax\n",
    "            h5.append('helper5')\n",
    "            return 5\n",
    "        def helper6(x):\n",
    "            x.append('helper6')\n",
    "            return 6\n",
    "       \n",
    "        def helper11():\n",
    "            h11 = 'helper11'\n",
    "            return 11\n",
    "        def helper12(h12):\n",
    "            h12 = 'helper12'\n",
    "            return 12        \n",
    "        def helper13(x):\n",
    "            x = 'helper13'\n",
    "            return 13        \n",
    "        def helper14():\n",
    "            self.h14 = 'helper14'\n",
    "            return 14        \n",
    "        def helper15(h15): #(self.h15) invalid syntax\n",
    "            h15 = 'helper15'\n",
    "            return 15        \n",
    "        def helper16(x):\n",
    "            x = 'helper16'\n",
    "            return 16\n",
    "    \n",
    "        helper1()\n",
    "        helper2(h2)\n",
    "        helper3(h3)        \n",
    "        helper4()\n",
    "        helper5(self.h5)\n",
    "        helper6(self.h6)\n",
    "                \n",
    "        helper11()\n",
    "        helper12(h12)\n",
    "        helper13(h13)\n",
    "        helper14()\n",
    "        helper15(self.h15)\n",
    "        helper16(self.h16)\n",
    "        \n",
    "        print h1\n",
    "        print h2\n",
    "        print h3\n",
    "        print self.h4\n",
    "        print self.h5\n",
    "        print self.h6\n",
    "        \n",
    "        print h11\n",
    "        print h12\n",
    "        print h13\n",
    "        print self.h14\n",
    "        print self.h15\n",
    "        print self.h16\n",
    "        \n",
    "        return\n",
    "a = SS()\n",
    "a.f()"
   ]
  },
  {
   "cell_type": "code",
   "execution_count": 183,
   "metadata": {},
   "outputs": [
    {
     "name": "stdout",
     "output_type": "stream",
     "text": [
      " There are 2 ways to def attribute of a class\n",
      "in the class or in the __init__ with self. in the class or\n"
     ]
    }
   ],
   "source": [
    "class Trie:\n",
    "    attribute1 = 'in the class or'\n",
    "    def __init__(self):\n",
    "        self.attribute2 = 'in the __init__ with self.'\n",
    "        self.attribute3 = self.attribute1\n",
    "        # 当你不需要初始化赋值变量时，不加self.直接放在类里面 等同于加了self.放在__init__里面但是不赋值\n",
    "        print 'There are 2 ways to def attribute of a class'\n",
    "a = Trie()\n",
    "print a.attribute1,  a.attribute2, a.attribute3"
   ]
  },
  {
   "cell_type": "markdown",
   "metadata": {},
   "source": [
    "https://www.guokr.com/question/528682/\n",
    "https://blog.csdn.net/laoyang360/article/details/7855860\n",
    "=============================\n",
    "【一般描述】\n",
    "递归：函数的内部调用自己。也有间接递归的，f内部调用g，g内部调用f。\n",
    "迭代：函数不调用自己，但函数将被反复调用，函数的计算结果保存在某处，作为函数下一次计算的参数。\n",
    "=============================\n",
    "【本质的比较\n",
    "递归计算的本质是：\n",
    "问题拆分成子问题-\n",
    "子问题拆分成“子子问题”-\n",
    "子子问题拆分成子子子问题-\n",
    "……\n",
    "根据子子子问题的答案计算子子问题-\n",
    "根据子子问题的答案计算子问题-\n",
    "根据子问题的答案计算原问题。\n",
    "也就是需要回溯。比如DFS。\n",
    "\n",
    "递归可以转换成树形结构，先向下递推再向上回溯\n",
    "--------------------------------------------------\n",
    "迭代计算的本质是\n",
    "计算第1步-\n",
    "根据第1步的答案计算第2步-\n",
    "根据第2步的答案计算第3步-\n",
    "……-\n",
    "根据倒数第二步的答案计算最后一步。\n",
    "所以只适用于不需要回溯的计算，比如BFS。\n",
    "\n",
    "例如牛顿法与梯度下降法都是迭代算法，在多次循环中逐步接近结果\n",
    "=============================\n",
    "【适用范围对比】\n",
    "（1）结果空间\n",
    "递归适用于结果空间为树形结构的问题。比如迷宫，起点是树根，DFS就是从树根到树叶的过程。\n",
    "迭代适用于问题空间定宽的问题，和铁轨一样。斐波那契数列本质上是定宽问题，可以用迭代计算。\n",
    "（2）后效性\n",
    "递归适用于需要回溯的问题。之所以需要回溯是因为之前的决定会影响后面的决定（有后效性），而且无法保证每一步都是对的（迷宫搜索时可能走错岔路）。\n",
    "迭代适用于不需要回溯的问题。即能保证每一步都在接近答案，没有岔路。\n",
    "（3）两者的关系\n",
    "递归能用于计算所有需要迭代计算的问题。原理是：子问题 = 从第2步的结果计算最终结果；子子问题 = 从第3步的结果计算最终结果；……\n",
    "有些问题（比如DFS）只能用递归，不能用迭代。\n",
    "=============================\n",
    "【优缺点】\n",
    "递归层数较浅的问题，用递归写会比较容易。比如上面提到的斐波那契数列计算。\n",
    "直接用函数自我调用的递归计算需要保存每一层的计算状态，当递归层数过深时会导致系统栈耗尽溢出，这时程序员不得不用数组模拟系统栈，但这样编程挺麻烦。\n",
    "所以对于能用迭代算法的问题，一般倾向于迭代算法，以避免递归算法“要么只能计算浅层问题，要么代码复杂”的尴尬状态。"
   ]
  },
  {
   "cell_type": "code",
   "execution_count": 66,
   "metadata": {},
   "outputs": [],
   "source": [
    "#binary search tree\n",
    "def Node(object):\n",
    "    def __init__(self,data):\n",
    "        self.data = data\n",
    "        self.leftChild = None\n",
    "        self.rightChind = None\n",
    "        \n",
    "        \n",
    "    def insert(self,newData):\n",
    "        if newData == self.data:\n",
    "            return False\n",
    "        elif newData < self.data:\n",
    "            if self.leftChild ==None: # if not self.leftChild\n",
    "                self.leftChild = Node(newData)\n",
    "            else:# leftChild already exists\n",
    "                self.leftChild.insert(newData) #recursively insert\n",
    "        else:\n",
    "            if self.rightChild == None:\n",
    "                self.rightChild.insert(newData)\n",
    "            else:\n",
    "                self.rightChild = Node(newData)\n",
    "    \n",
    "    def findValue(self,value):\n",
    "        if value == self.data:\n",
    "            return True\n",
    "        elif value < self.data:\n",
    "            if not self.leftChild:\n",
    "                return False\n",
    "            else:\n",
    "                self.leftChild.findValue(value)\n",
    "        else:\n",
    "            if not self.rightChild:\n",
    "                return False\n",
    "            else:\n",
    "                self.rightChild.findValue(value)\n",
    " "
   ]
  },
  {
   "cell_type": "code",
   "execution_count": 12,
   "metadata": {},
   "outputs": [
    {
     "name": "stdout",
     "output_type": "stream",
     "text": [
      "(98, [50])\n"
     ]
    }
   ],
   "source": [
    "    #对函数传入变量， 经过计算后该变量的内容不会改变，因为传入的其实是该变量的值\n",
    "    #对函数传入list， 经过计算后该list的内容会改变, 因为传入的其实是该list的地址(python中叫引用)\n",
    "    def test():\n",
    "        doorNumber = [100]\n",
    "        money = 98\n",
    "        def robMoney(money):\n",
    "            money /= 2\n",
    "            return \n",
    "        def robHouse(doorNumber):\n",
    "            doorNumber[0] /= 2\n",
    "            return\n",
    "        robMoney(money)\n",
    "        robHouse(doorNumber)\n",
    "        print(money,doorNumber)\n",
    "    test() #result: 98 [50]"
   ]
  },
  {
   "cell_type": "code",
   "execution_count": 65,
   "metadata": {},
   "outputs": [],
   "source": [
    "\n",
    "class Solution(object):\n",
    "    def convertBST(self, root):\n",
    "        \"\"\"\n",
    "        :type root: TreeNode\n",
    "        :rtype: TreeNode\n",
    "        \"\"\"\n",
    "        \n",
    "        def dfs(root):\n",
    "            if not root:\n",
    "                return 0\n",
    "\n",
    "            root.val +=  dfs(root.right)\n",
    "            if root.left:\n",
    "                root.left.val += root.val\n",
    "                dfs(root.left)\n",
    "            return root.val\n",
    "\n",
    "        dfs(root)\n",
    "        return TreeNode\n",
    "a = Solution()\n"
   ]
  },
  {
   "cell_type": "code",
   "execution_count": 69,
   "metadata": {},
   "outputs": [
    {
     "name": "stdout",
     "output_type": "stream",
     "text": [
      "1 -1\n",
      "2 -2\n",
      "3 -3\n"
     ]
    }
   ],
   "source": [
    "dic = {1:-1,2:-2,3:-3}\n",
    "for key,val in dic.iteritems():\n",
    "    print key,val\n",
    "    \n"
   ]
  },
  {
   "cell_type": "code",
   "execution_count": 81,
   "metadata": {},
   "outputs": [],
   "source": [
    "for i in range(1,1):\n",
    "    print 'never enter inito loop if i in range(n,n)'\n"
   ]
  },
  {
   "cell_type": "code",
   "execution_count": 73,
   "metadata": {},
   "outputs": [
    {
     "name": "stdout",
     "output_type": "stream",
     "text": [
      "[1]\n"
     ]
    }
   ],
   "source": [
    "a = [1]\n",
    "for i in range(1,len(a)+1):\n",
    "    print a"
   ]
  },
  {
   "cell_type": "code",
   "execution_count": 96,
   "metadata": {},
   "outputs": [
    {
     "name": "stdout",
     "output_type": "stream",
     "text": [
      "(1, 'a', 'ab')\n",
      "(2, 'aa', 'b')\n",
      "-----------------\n",
      "(1, 'a', 'ab')\n",
      "(2, 'aa', 'b')\n",
      "(3, 'aab', '')\n"
     ]
    }
   ],
   "source": [
    "a = 'aab'\n",
    "l = len(a)\n",
    "for i in range(1,l):\n",
    "    print (i,a[:i],a[i:])\n",
    "print '-----------------'\n",
    "for i in range(1,l+1):\n",
    "    print (i,a[:i],a[i:])\n"
   ]
  },
  {
   "cell_type": "code",
   "execution_count": 114,
   "metadata": {},
   "outputs": [
    {
     "name": "stdout",
     "output_type": "stream",
     "text": [
      "[123]\n"
     ]
    }
   ],
   "source": [
    "a = [123]\n",
    "def f(b):\n",
    "    b = []\n",
    "    b.append(10)\n",
    "f(a)\n",
    "print a"
   ]
  },
  {
   "cell_type": "code",
   "execution_count": 132,
   "metadata": {
    "scrolled": true
   },
   "outputs": [
    {
     "name": "stdout",
     "output_type": "stream",
     "text": [
      "{1: 2, 2: 4, 3: 8}\n",
      "8\n"
     ]
    }
   ],
   "source": [
    "a = {1:2,2:4,3:8}\n",
    "print a\n",
    "print a.pop(3)\n",
    "# print max(a,key = a.get)"
   ]
  },
  {
   "cell_type": "code",
   "execution_count": 144,
   "metadata": {},
   "outputs": [
    {
     "name": "stdout",
     "output_type": "stream",
     "text": [
      "[[0, 0], [0, 0], [0, 0], [0, 0], [0, 0]]\n",
      "[[1, 0], [1, 0], [1, 0], [1, 0], [1, 0]]\n",
      "\n",
      "\n",
      "[[0, 0], [0, 0], [0, 0], [0, 0], [0, 0]]\n",
      "[[1, 0], [0, 0], [0, 0], [0, 0], [0, 0]]\n"
     ]
    }
   ],
   "source": [
    "history = [[0] * 2] * 5\n",
    "print history\n",
    "history[0][0] = 1\n",
    "print history\n",
    "print '\\n'\n",
    "\n",
    "a = [[0] * 2 for i in range(5)]\n",
    "print a\n",
    "a [0][0] = 1\n",
    "print a"
   ]
  },
  {
   "cell_type": "code",
   "execution_count": 151,
   "metadata": {},
   "outputs": [
    {
     "name": "stdout",
     "output_type": "stream",
     "text": [
      "[[1, 2, 3]] [[1, 2, 3]]\n",
      "[[1, 2, 3, 0]] [[1, 2, 3]]\n"
     ]
    }
   ],
   "source": [
    "a = [1,2,3]\n",
    "b = []\n",
    "c = []\n",
    "b.append(a)\n",
    "c.append(a[:])\n",
    "print b,c\n",
    "a += [0]\n",
    "print b,c"
   ]
  },
  {
   "cell_type": "code",
   "execution_count": 179,
   "metadata": {},
   "outputs": [
    {
     "name": "stdout",
     "output_type": "stream",
     "text": [
      "\n",
      "eh\n",
      "lleh\n",
      "[]\n",
      "[4, 3, 2, 1, 0]\n",
      "[1, 0]\n"
     ]
    }
   ],
   "source": [
    "print 'hello'[0:2:-1]  # -> print ''\n",
    "print 'hello'[0:2][::-1]\n",
    "print 'hello'[3::-1]\n",
    "print range(10)[0:5:-1]\n",
    "print range(10)[0:5][::-1]\n",
    "print range(10)[0:5][1::-1]"
   ]
  },
  {
   "cell_type": "code",
   "execution_count": 198,
   "metadata": {},
   "outputs": [
    {
     "name": "stdout",
     "output_type": "stream",
     "text": [
      "{'h': {'i': {'m': {'*': True}}}}\n",
      "False True\n"
     ]
    }
   ],
   "source": [
    "class Trie:\n",
    "    head = {} #attribute\n",
    "    def add(self,word):\n",
    "        cur = self.head\n",
    "        for ch in word:\n",
    "            if ch not in cur:\n",
    "                cur[ch] = {}\n",
    "                cur = cur[ch]\n",
    "        cur['*'] = True\n",
    "            \n",
    "    def search(self,word):\n",
    "        cur = self.head\n",
    "        for ch in word:\n",
    "            if ch not in cur:\n",
    "                return False\n",
    "            cur = cur[ch]\n",
    "        if '*' in cur:\n",
    "            return True\n",
    "        else:\n",
    "            return False\n",
    "dic =  Trie()\n",
    "dic.add('him')\n",
    "print dic.head\n",
    "print dic.search('hi'),dic.search('him')\n"
   ]
  },
  {
   "cell_type": "code",
   "execution_count": 204,
   "metadata": {},
   "outputs": [
    {
     "name": "stdout",
     "output_type": "stream",
     "text": [
      "0 2\n",
      "1 3\n",
      "2 4\n",
      "1 2\n",
      "2 3\n",
      "3 4\n",
      "1 2\n",
      "2 3\n",
      "3 4\n"
     ]
    }
   ],
   "source": [
    "a = [1,2,3,4]\n",
    "for i ,v in enumerate(a[1:]):\n",
    "    print i,v\n",
    "for v in a[1:]:\n",
    "    print a.index(v),v\n",
    "for i in range(1,len(a)):\n",
    "    print i,a[i]"
   ]
  },
  {
   "cell_type": "code",
   "execution_count": 231,
   "metadata": {},
   "outputs": [
    {
     "name": "stdout",
     "output_type": "stream",
     "text": [
      "{1: -1, 2: -2, 3: -3}\n",
      "{2: -2, 3: -3}\n",
      "{3: -3}\n",
      "{3: -3}\n"
     ]
    }
   ],
   "source": [
    "dic = {1:-1,2:-2,3:-3}\n",
    "print dic\n",
    "del dic[1]\n",
    "print dic\n",
    "dic.pop(2)\n",
    "print dic\n",
    "dic.pop(8,None)\n",
    "print dic"
   ]
  },
  {
   "cell_type": "code",
   "execution_count": 232,
   "metadata": {},
   "outputs": [
    {
     "name": "stdout",
     "output_type": "stream",
     "text": [
      "1\n",
      "3\n",
      "4\n",
      "3\n",
      "1\n",
      "4\n",
      "3\n",
      "4\n",
      "1\n",
      "2\n",
      "1\n",
      "4\n"
     ]
    }
   ],
   "source": [
    "nums = [1,2,1,3,1,1,3]\n",
    "k = 4\n",
    "s = 0\n",
    "width = 0\n",
    "# 描边划窗算法\n",
    "for start in range(len(nums)):\n",
    "    while start + width < len(nums):\n",
    "        s += nums[start + width]\n",
    "        if s <= k:\n",
    "            print s\n",
    "            width += 1\n",
    "        else:\n",
    "            s -= nums[start] + nums[start + width]\n",
    "            width -= 1\n",
    "            print s\n",
    "            break  \n",
    "    "
   ]
  },
  {
   "cell_type": "code",
   "execution_count": 233,
   "metadata": {
    "scrolled": true
   },
   "outputs": [
    {
     "name": "stdout",
     "output_type": "stream",
     "text": [
      "1\n",
      "2\n",
      "3\n",
      "11\n",
      "19\n",
      "19\n",
      "11\n",
      "3\n",
      "4\n",
      "4\n"
     ]
    }
   ],
   "source": [
    "nums = [1,1,1,9,9,1,1,1,1]\n",
    "k = 4\n",
    "s = 0\n",
    "width = 0\n",
    "res = 0\n",
    "# https://www.youtube.com/watch?v=dQWsEWgbgc8&t=490s\n",
    "for start in range(len(nums)):\n",
    "    while start + width < len(nums):\n",
    "        s += nums[start + width]\n",
    "        if s <= k:\n",
    "            print s\n",
    "            width += 1\n",
    "            res = max(res,width)\n",
    "        else:\n",
    "            s -= nums[start] \n",
    "            print s\n",
    "            break  \n",
    "print res"
   ]
  },
  {
   "cell_type": "code",
   "execution_count": 234,
   "metadata": {
    "collapsed": true
   },
   "outputs": [],
   "source": [
    "class Solution:\n",
    "    def subarraySum(self, nums, k):\n",
    "        res = 0\n",
    "        for i in range(len(nums)):\n",
    "            prefixSum += nums[i]\n",
    "            for j in range(i, len(nums)):\n",
    "                prefixSum += nums[j]\n",
    "                if prefixSum == k:\n",
    "                    res += 1\n",
    "        return res\n",
    "s = Solution()"
   ]
  },
  {
   "cell_type": "code",
   "execution_count": 260,
   "metadata": {},
   "outputs": [
    {
     "name": "stdout",
     "output_type": "stream",
     "text": [
      "F\n",
      "D\n",
      "B\n",
      "A\n",
      "3\n",
      "['E', 'D', 'F', 'B', 'A', 'C']\n"
     ]
    }
   ],
   "source": [
    "graph = {\n",
    "    'A':['B','C'],\n",
    "    'B':['A','C','D'],\n",
    "    'C':['A','B','D','E'],\n",
    "    'D':['B','C','E',\"F\"],\n",
    "    'E':['C','D'],\n",
    "    'F':['D']\n",
    "}\n",
    "# print graph\n",
    "def bfs(graph,start):\n",
    "    res = []\n",
    "    queue = [start]\n",
    "    seen = set([start]) # 加入队列后就记进 seen， 避免重复加入队列\n",
    "    parent = {start:None}\n",
    "    while queue:\n",
    "        temp = queue.pop(0)\n",
    "        res.append(temp)\n",
    "        for node in graph[temp]:\n",
    "            if node not in seen: # O(1)\n",
    "                queue.append(node)\n",
    "                seen.add(node)\n",
    "                parent[node] = temp\n",
    "    return parent    \n",
    "    #return seen # seen has no order, df from sequence of temp, but search in O(1)\n",
    "parent = bfs(graph,'A')\n",
    "node = 'F'\n",
    "l = -1\n",
    "\n",
    "while node:\n",
    "    print node\n",
    "    node = parent[node]\n",
    "    l += 1\n",
    "print l\n",
    "\n",
    "def dfs(graph,start): # preOrder\n",
    "    res = []\n",
    "    stack = [start]\n",
    "    seen = set([start]) # 加入队列后就记进 seen， 避免重复加入队列\n",
    "    while stack:\n",
    "        temp = stack.pop()\n",
    "        res.append(temp) # preOrder dfs\n",
    "        for node in graph[temp]:\n",
    "            if node not in seen: # O(1)\n",
    "                stack.append(node)\n",
    "                seen.add(node)\n",
    "    return res    \n",
    "print dfs(graph,'E')\n"
   ]
  },
  {
   "cell_type": "markdown",
   "metadata": {
    "ExecuteTime": {
     "end_time": "2018-12-21T07:42:34.488362Z",
     "start_time": "2018-12-21T07:42:34.483632Z"
    }
   },
   "source": [
    "# 闭包\n",
    "外部函数内return内部函数对象\n",
    "\n",
    "内部函数连同其context(自由变量)一起被存储为一个闭包,当外部函数的生命周期结束之后，其局部变量依然存在于闭包引用的context内，所以不会被回收。\n",
    "\n",
    "闭包的最大特点是可以将父函数的变量与内部函数绑定，并返回绑定变量后的函数（也即闭包），此时即便生成闭包的环境（父函数）已经释放，闭包仍然存在，这个过程很像类（父函数）生成实例（闭包），不同的是父函数只在调用时执行，执行完毕后其环境就会释放，而类则在文件执行时创建，一般程序执行完毕后作用域才释放，因此对一些需要重用的功能且不足以定义为类的行为，使用闭包会比使用类占用更少的资源，且更轻巧灵活，一般来说，当对象中只有一个方法时，这时使用闭包是更好的选择。"
   ]
  },
  {
   "cell_type": "code",
   "execution_count": 1,
   "metadata": {
    "ExecuteTime": {
     "end_time": "2018-12-28T14:26:00.442732Z",
     "start_time": "2018-12-28T14:26:00.438145Z"
    }
   },
   "outputs": [
    {
     "name": "stdout",
     "output_type": "stream",
     "text": [
      "outer_variable\n",
      "outer_variable\n",
      "outer_variable\n",
      "10 20 30\n"
     ]
    }
   ],
   "source": [
    "def func_x(x):\n",
    "    c = 'outer_variable'\n",
    "    def func_y(y):\n",
    "        print(c)\n",
    "        return x * y\n",
    "    return func_y # func_y is the closure\n",
    "closure = func_x(10)\n",
    "print(closure(1),closure(2),closure(3))\n"
   ]
  },
  {
   "cell_type": "code",
   "execution_count": 86,
   "metadata": {
    "ExecuteTime": {
     "end_time": "2019-01-01T08:20:23.545334Z",
     "start_time": "2019-01-01T08:20:23.540364Z"
    }
   },
   "outputs": [
    {
     "name": "stdout",
     "output_type": "stream",
     "text": [
      "1\n",
      "3\n",
      "5\n",
      "7\n",
      "9\n"
     ]
    }
   ],
   "source": [
    "a = [1,2,3,4,5,6,7,8,9,10]\n",
    "while a:\n",
    "    print(a[0])\n",
    "    for i in range(2):\n",
    "        a.pop(0)"
   ]
  },
  {
   "cell_type": "code",
   "execution_count": 121,
   "metadata": {
    "ExecuteTime": {
     "end_time": "2019-01-03T10:18:55.353475Z",
     "start_time": "2019-01-03T10:18:55.349138Z"
    }
   },
   "outputs": [
    {
     "name": "stdout",
     "output_type": "stream",
     "text": [
      "dict_keys([9, 7, 5]) dict_values([8, 6, 4]) dict_items([(9, 8), (7, 6), (5, 4)])\n"
     ]
    }
   ],
   "source": [
    "res = {9:8,7:6,5:4}\n",
    "print(res.keys(),res.values(),res.items())"
   ]
  },
  {
   "cell_type": "code",
   "execution_count": 124,
   "metadata": {
    "ExecuteTime": {
     "end_time": "2019-01-03T20:46:43.464081Z",
     "start_time": "2019-01-03T20:46:43.460244Z"
    }
   },
   "outputs": [
    {
     "name": "stdout",
     "output_type": "stream",
     "text": [
      "{'A': 1, 'B': 2, 'C': 3, 'D': 4, 'E': 5, 'F': 6, 'G': 7, 'H': 8, 'I': 9, 'J': 10, 'K': 11, 'L': 12, 'M': 13, 'N': 14, 'O': 15, 'P': 16, 'Q': 17, 'R': 18, 'S': 19, 'T': 20, 'U': 21, 'V': 22, 'W': 23, 'X': 24, 'Y': 25, 'Z': 26}\n"
     ]
    }
   ],
   "source": [
    "dic = {}\n",
    "for i in range(1,27):\n",
    "    dic[chr(64 + i)] = i\n",
    "print(dic)"
   ]
  },
  {
   "cell_type": "code",
   "execution_count": 131,
   "metadata": {
    "ExecuteTime": {
     "end_time": "2019-01-04T06:00:45.315932Z",
     "start_time": "2019-01-04T06:00:45.312467Z"
    }
   },
   "outputs": [
    {
     "name": "stdout",
     "output_type": "stream",
     "text": [
      "9\n"
     ]
    }
   ],
   "source": [
    "for j in range(10):\n",
    "    pass\n",
    "print(j)"
   ]
  },
  {
   "cell_type": "code",
   "execution_count": 133,
   "metadata": {
    "ExecuteTime": {
     "end_time": "2019-01-04T22:54:10.894410Z",
     "start_time": "2019-01-04T22:54:10.885502Z"
    }
   },
   "outputs": [
    {
     "name": "stdout",
     "output_type": "stream",
     "text": [
      "100\n"
     ]
    }
   ],
   "source": [
    "i = 100\n",
    "print(None or i)"
   ]
  },
  {
   "cell_type": "code",
   "execution_count": 137,
   "metadata": {
    "ExecuteTime": {
     "end_time": "2019-01-05T01:19:46.016157Z",
     "start_time": "2019-01-05T01:19:46.012821Z"
    }
   },
   "outputs": [
    {
     "name": "stdout",
     "output_type": "stream",
     "text": [
      "llo\n"
     ]
    }
   ],
   "source": [
    "s = 'hello'\n",
    "print(s[2:])"
   ]
  },
  {
   "cell_type": "code",
   "execution_count": 140,
   "metadata": {
    "ExecuteTime": {
     "end_time": "2019-01-05T01:38:23.280273Z",
     "start_time": "2019-01-05T01:38:23.276786Z"
    }
   },
   "outputs": [
    {
     "name": "stdout",
     "output_type": "stream",
     "text": [
      "False\n"
     ]
    }
   ],
   "source": [
    "dic1 = {1:'a',2:'b'}\n",
    "dic2 = {1:'a',2:'b',3:'c'}\n",
    "print(dic1 == dic2)"
   ]
  },
  {
   "cell_type": "code",
   "execution_count": 43,
   "metadata": {
    "ExecuteTime": {
     "end_time": "2019-02-14T17:29:20.427338Z",
     "start_time": "2019-02-14T17:29:20.422216Z"
    }
   },
   "outputs": [
    {
     "data": {
      "text/plain": [
       "2.3333333333333335"
      ]
     },
     "execution_count": 43,
     "metadata": {},
     "output_type": "execute_result"
    }
   ],
   "source": [
    "a = [4,2,1]\n",
    "a.sort(key = lambda x:x)\n",
    "float(sum(a))/len(a)"
   ]
  },
  {
   "cell_type": "code",
   "execution_count": 150,
   "metadata": {
    "ExecuteTime": {
     "end_time": "2019-01-07T00:39:13.270419Z",
     "start_time": "2019-01-07T00:39:13.266516Z"
    }
   },
   "outputs": [
    {
     "name": "stdout",
     "output_type": "stream",
     "text": [
      "<class 'str'>\n",
      "<class 'list'>\n"
     ]
    }
   ],
   "source": [
    "import json\n",
    "data = [ 1,2,3,4,5]\n",
    "j = json.dumps(data)\n",
    "print(type(j))\n",
    "text = json.loads(j)\n",
    "print(type(text))"
   ]
  },
  {
   "cell_type": "code",
   "execution_count": 1,
   "metadata": {
    "ExecuteTime": {
     "end_time": "2019-02-11T21:05:15.400985Z",
     "start_time": "2019-02-11T21:05:15.390822Z"
    }
   },
   "outputs": [
    {
     "data": {
      "text/plain": [
       "(3,)"
      ]
     },
     "execution_count": 1,
     "metadata": {},
     "output_type": "execute_result"
    }
   ],
   "source": [
    "import numpy as np\n",
    "a = np.array([1,2,3])\n",
    "b = a.reshape(3,)\n",
    "ab.shape"
   ]
  },
  {
   "cell_type": "markdown",
   "metadata": {},
   "source": [
    "amazon 社招OA"
   ]
  },
  {
   "cell_type": "code",
   "execution_count": 13,
   "metadata": {
    "ExecuteTime": {
     "end_time": "2019-02-11T21:43:10.980070Z",
     "start_time": "2019-02-11T21:43:10.973842Z"
    }
   },
   "outputs": [
    {
     "name": "stdout",
     "output_type": "stream",
     "text": [
      "[[3, 3], [2, 2], [4, 4]]\n"
     ]
    }
   ],
   "source": [
    "# k 最近点\n",
    "points = [[1,1],[2,2],[3,3],[4,4],[5,5]]\n",
    "o = [3,3]\n",
    "k = 3\n",
    "\n",
    "import heapq\n",
    "dis = []\n",
    "res = []\n",
    "for index,val in enumerate(points):\n",
    "    dis.append(((val[0] - o[0])**2 + (val[1] - o[1]) ** 2, index))\n",
    "for _, index in (heapq.nsmallest(k,dis)):\n",
    "    res.append(points[index])\n",
    "print(res)"
   ]
  },
  {
   "cell_type": "code",
   "execution_count": 20,
   "metadata": {
    "ExecuteTime": {
     "end_time": "2019-02-12T03:00:08.902348Z",
     "start_time": "2019-02-12T03:00:08.894431Z"
    }
   },
   "outputs": [
    {
     "name": "stdout",
     "output_type": "stream",
     "text": [
      "[(1, 5), (1, 6), (2, 3), (3, 3), (4, 2), (5, 1), (6, 0), (6, 7), (8, 0), (8, 7)] [9, 9, 9, 9, 9, 9, 9, 9, 9, 9]\n"
     ]
    }
   ],
   "source": [
    "# pair sum\n",
    "a = [1,2,3,3,4,5,6,1,6]\n",
    "b = [3,4,5,6,2,7,7,3,2,1,2]\n",
    "target = 10\n",
    "s = float(\"-inf\")\n",
    "res = []\n",
    "for i in range(len(a)):\n",
    "    for j in range(len(b)):\n",
    "        temp = a[i] + b[j]\n",
    "        if temp > s and temp < target:\n",
    "            s = temp\n",
    "            res = [(i,j)]\n",
    "        elif temp == s:\n",
    "            res.append((i,j))\n",
    "print(res,[a[res[i][0]]+ b[res[i][1]] for i in range(len(res))])"
   ]
  },
  {
   "cell_type": "code",
   "execution_count": 16,
   "metadata": {
    "ExecuteTime": {
     "end_time": "2019-02-12T02:14:07.549047Z",
     "start_time": "2019-02-12T02:14:07.534587Z"
    }
   },
   "outputs": [
    {
     "name": "stdout",
     "output_type": "stream",
     "text": [
      "[[0, 1], [7, 1], [1, 2], [2, 3], [3, 3], [4, 4], [5, 5], [6, 6], [8, 6]]\n",
      "[[9, 1], [4, 2], [8, 2], [10, 2], [0, 3], [7, 3], [1, 4], [2, 5], [3, 6], [5, 7], [6, 7]]\n",
      "8\n",
      "8\n",
      "9\n",
      "10\n",
      "10\n",
      "9\n",
      "9\n",
      "10\n",
      "9\n",
      "10\n",
      "9\n",
      "10\n",
      "9\n",
      "9\n"
     ]
    },
    {
     "data": {
      "text/plain": [
       "[(1, 6), [2, 3], [3, 3], [4, 2], [5, 1], [6, 7], [8, 7]]"
      ]
     },
     "execution_count": 16,
     "metadata": {},
     "output_type": "execute_result"
    }
   ],
   "source": [
    "# f = [[1, 1000],[2, 7000],[3, 12000],[4,8000]]\n",
    "# r = [[1, 10000],[2, 9000],[3, 3000],[4, 2000]]\n",
    "# 还是应该用暴力法来解，双指针有遗漏\n",
    "f = [[i,num] for i, num in enumerate([1,2,3,3,4,5,6,1,6])]\n",
    "r = [[i,num] for i, num in enumerate([3,4,5,6,2,7,7,3,2,1,2])]\n",
    "# print(f,r)\n",
    "res = []\n",
    "target = 10\n",
    "f.sort(key = lambda x:x[1])\n",
    "r.sort(key = lambda x:x[1])\n",
    "print(f)\n",
    "print(r)\n",
    "i, j = 0, len(r)-1\n",
    "s = float('-inf')\n",
    "res = []\n",
    "while i < len(f) and j >= 0:\n",
    "    t = f[i][1] + r[j][1]\n",
    "    print(t)\n",
    "    if t < target:\n",
    "        if t > s:\n",
    "            s = t\n",
    "            res = [(f[i][0],r[j][0])]\n",
    "        elif t == s:\n",
    "                res.append([f[i][0],r[j][0]])\n",
    "\n",
    "        i += 1\n",
    "    else:\n",
    "        j -= 1\n",
    "res"
   ]
  },
  {
   "cell_type": "code",
   "execution_count": 20,
   "metadata": {
    "ExecuteTime": {
     "end_time": "2019-02-11T22:21:57.735997Z",
     "start_time": "2019-02-11T22:21:57.730716Z"
    }
   },
   "outputs": [
    {
     "ename": "IndentationError",
     "evalue": "unexpected indent (<ipython-input-20-271e7ded97af>, line 2)",
     "output_type": "error",
     "traceback": [
      "\u001b[0;36m  File \u001b[0;32m\"<ipython-input-20-271e7ded97af>\"\u001b[0;36m, line \u001b[0;32m2\u001b[0m\n\u001b[0;31m    dummy = ListNode(None)\u001b[0m\n\u001b[0m    ^\u001b[0m\n\u001b[0;31mIndentationError\u001b[0m\u001b[0;31m:\u001b[0m unexpected indent\n"
     ]
    }
   ],
   "source": [
    "# merge 2 sorted list\n",
    "dummy = ListNode(None)\n",
    "    n = dummy\n",
    "    while l1 and l2:\n",
    "        if l1.val < l2.val:\n",
    "            n.next = l1\n",
    "            n = n.next\n",
    "            l1 = l1.next\n",
    "        else:\n",
    "            n.next = l2\n",
    "            n = n.next\n",
    "            l2 = l2.next\n",
    "    n.next = l2 or l1\n",
    "    return dummy.next"
   ]
  },
  {
   "cell_type": "code",
   "execution_count": 45,
   "metadata": {
    "ExecuteTime": {
     "end_time": "2019-02-14T17:32:41.249847Z",
     "start_time": "2019-02-14T17:32:41.241080Z"
    }
   },
   "outputs": [
    {
     "data": {
      "text/plain": [
       "8"
      ]
     },
     "execution_count": 45,
     "metadata": {},
     "output_type": "execute_result"
    }
   ],
   "source": [
    "#https://www.geeksforgeeks.org/count-number-of-substrings-with-exactly-k-distinct-characters/\n",
    "\n",
    "def cnt_function(s,k):\n",
    "    n = len(s)\n",
    "    res = 0\n",
    "    for i in range(n):\n",
    "        dic = {}\n",
    "        cnt = 0\n",
    "        for j in range(i,n):\n",
    "            char = s[j]\n",
    "            if char not in dic:\n",
    "                dic[char] = 'a'\n",
    "                cnt += 1\n",
    "            if cnt == k:\n",
    "                res += 1\n",
    "            elif cnt > k:\n",
    "                break\n",
    "    return res\n",
    "                \n",
    "cnt_function(\"abcbaa\",3)        \n",
    "    \n",
    "    "
   ]
  },
  {
   "cell_type": "code",
   "execution_count": 17,
   "metadata": {
    "ExecuteTime": {
     "end_time": "2019-02-12T02:48:38.080580Z",
     "start_time": "2019-02-12T02:48:38.068736Z"
    }
   },
   "outputs": [],
   "source": [
    "# maximum subtree\n",
    "# 给你一棵二叉树，找二叉树中的一棵子树，他的所有节点之和最大。\n",
    "# 返回这棵子树的根节点。\n",
    "# https://yeqiuquan.blogspot.com/2017/03/lintcode-628-maximum-subtree.html\n",
    "class Solution:\n",
    "    # @param {TreeNode} root the root of binary tree\n",
    "    # @return {int} the maximum weight node\n",
    "    def findSubtree(self, root):\n",
    "        maxSum = float('-inf')\n",
    "        maxRoot = None\n",
    "        def getsum(node):\n",
    "            if not node:\n",
    "                return 0\n",
    "            res = node.val + getsum(node.left) + getsum(node.right)\n",
    "            if res > maxSum:\n",
    "                maxSum = res\n",
    "                maxRoot = node\n",
    "            return res\n",
    "        gerSum(root)\n",
    "        return maxRoot"
   ]
  },
  {
   "cell_type": "code",
   "execution_count": 50,
   "metadata": {
    "ExecuteTime": {
     "end_time": "2019-02-14T18:51:54.206111Z",
     "start_time": "2019-02-14T18:51:54.200121Z"
    }
   },
   "outputs": [],
   "source": [
    "class Solution:\n",
    "    # @param {TreeNode} root the root of binary tree\n",
    "    # @return {int} the maximum weight node\n",
    "    def findSubtree(self, root):\n",
    "        maxAve = float('-inf')\n",
    "        maxRoot = None\n",
    "        def getsum(node):\n",
    "            if not node:\n",
    "                return 0, 0\n",
    "            lsum, lnum = getsum(node.left)\n",
    "            rsum, rnum = getsum(node.right)\n",
    "            nsum = lsum + rsum + node.val\n",
    "            nnum = lnum + rnum + 1\n",
    "            if (nsum / nnum) > maxAve:\n",
    "                maxAve = res\n",
    "                maxRoot = node\n",
    "            return [nsum, nnum]\n",
    "        gerSum(root)\n",
    "        return maxRoot"
   ]
  },
  {
   "cell_type": "code",
   "execution_count": 21,
   "metadata": {
    "ExecuteTime": {
     "end_time": "2019-02-13T21:26:16.343769Z",
     "start_time": "2019-02-13T21:26:16.306441Z"
    }
   },
   "outputs": [
    {
     "ename": "SyntaxError",
     "evalue": "invalid syntax (<ipython-input-21-3af8d8136d8b>, line 14)",
     "output_type": "error",
     "traceback": [
      "\u001b[0;36m  File \u001b[0;32m\"<ipython-input-21-3af8d8136d8b>\"\u001b[0;36m, line \u001b[0;32m14\u001b[0m\n\u001b[0;31m    dic[idd] =\u001b[0m\n\u001b[0m               ^\u001b[0m\n\u001b[0;31mSyntaxError\u001b[0m\u001b[0;31m:\u001b[0m invalid syntax\n"
     ]
    }
   ],
   "source": [
    "# Five hightest： https://yeqiuquan.blogspot.com/2017/03/lintcode-613-high-five.html\n",
    "# 选每个产品五个评分最高的求平均值。\n",
    "# 给一个list，每个element是<productId, productRating>，\n",
    "# 求每个product最高的5个评分的Average\n",
    "import heapq\n",
    "a = []\n",
    "a += [[1,i] for i in range(-4,6)]\n",
    "a += [[2,i] for i in range(1,11)]\n",
    "print(a)\n",
    "dic = {}\n",
    "for idd, val in a:\n",
    "    if idd not in dic:\n",
    "        dic[idd] = []\n",
    "    dic[idd] = "
   ]
  },
  {
   "cell_type": "code",
   "execution_count": 33,
   "metadata": {
    "ExecuteTime": {
     "end_time": "2019-02-14T00:21:22.859743Z",
     "start_time": "2019-02-14T00:21:22.854879Z"
    }
   },
   "outputs": [
    {
     "data": {
      "text/plain": [
       "True"
      ]
     },
     "execution_count": 33,
     "metadata": {},
     "output_type": "execute_result"
    }
   ],
   "source": [
    "import collections\n",
    "s = \"aabbc\"\n",
    "# len(collections.Counter(s))\n",
    "dic= {'b':2,'a':2,'c':1}\n",
    "dic == collections.Counter(s)"
   ]
  },
  {
   "cell_type": "code",
   "execution_count": 46,
   "metadata": {
    "ExecuteTime": {
     "end_time": "2019-02-14T17:54:29.196550Z",
     "start_time": "2019-02-14T17:54:29.175928Z"
    }
   },
   "outputs": [
    {
     "name": "stdout",
     "output_type": "stream",
     "text": [
      "5\n",
      "5\n"
     ]
    }
   ],
   "source": [
    "M = [[8, 4, 7],\n",
    "     [6, 5, 9]]\n",
    "# 求所有从左上到右下路径所有路径中，最小值集合中的最大值。\n",
    "# 有3条path：\n",
    "# 8-4-7-9 min: 4\n",
    "# 8-4-5-9 min: 4\n",
    "# 8-6-5-9 min: 5\n",
    "# return: 5\n",
    "m, n = len(M),len(M[0])\n",
    "dp = M[:]\n",
    "\n",
    "for i in range(1,m):\n",
    "    dp[i][0] = min(dp[i][0],dp[i-1][0])\n",
    "for i in range(1,n):\n",
    "    dp[0][i] = min(dp[0][i],dp[0][i-1])\n",
    "\n",
    "for i in range(1,m):\n",
    "    for j in range(1,n):\n",
    "        dp[i][j] = min(max(dp[i-1][j],dp[i][j-1]) , dp[i][j])\n",
    "print(dp[-1][-1])\n",
    "\n",
    "\n",
    "dp = M[0][:]\n",
    "for j in range(1,n):\n",
    "    dp[j] = min(dp[j-1],dp[j])\n",
    "for i in range(1,m):\n",
    "    for j in range(n):\n",
    "        if j == 0:\n",
    "            dp[j] = M[i][j]\n",
    "        else:\n",
    "            dp[j] = min(max(dp[j-1], dp[j]), M[i][j])\n",
    "print(dp[-1])"
   ]
  },
  {
   "cell_type": "code",
   "execution_count": 49,
   "metadata": {
    "ExecuteTime": {
     "end_time": "2019-02-14T17:55:00.199903Z",
     "start_time": "2019-02-14T17:55:00.196392Z"
    }
   },
   "outputs": [
    {
     "name": "stdout",
     "output_type": "stream",
     "text": [
      "aiou\n"
     ]
    }
   ],
   "source": [
    "s = \"aeiou\"\n",
    "print(s.replace(\"e\",\"\"))"
   ]
  }
 ],
 "metadata": {
  "kernelspec": {
   "display_name": "Python 3",
   "language": "python",
   "name": "python3"
  },
  "language_info": {
   "codemirror_mode": {
    "name": "ipython",
    "version": 3
   },
   "file_extension": ".py",
   "mimetype": "text/x-python",
   "name": "python",
   "nbconvert_exporter": "python",
   "pygments_lexer": "ipython3",
   "version": "3.6.6"
  },
  "varInspector": {
   "cols": {
    "lenName": 16,
    "lenType": 16,
    "lenVar": 40
   },
   "kernels_config": {
    "python": {
     "delete_cmd_postfix": "",
     "delete_cmd_prefix": "del ",
     "library": "var_list.py",
     "varRefreshCmd": "print(var_dic_list())"
    },
    "r": {
     "delete_cmd_postfix": ") ",
     "delete_cmd_prefix": "rm(",
     "library": "var_list.r",
     "varRefreshCmd": "cat(var_dic_list()) "
    }
   },
   "types_to_exclude": [
    "module",
    "function",
    "builtin_function_or_method",
    "instance",
    "_Feature"
   ],
   "window_display": false
  }
 },
 "nbformat": 4,
 "nbformat_minor": 2
}
